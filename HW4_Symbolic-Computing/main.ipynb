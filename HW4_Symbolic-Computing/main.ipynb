{
 "cells": [
  {
   "cell_type": "code",
   "execution_count": null,
   "metadata": {},
   "outputs": [
    {
     "data": {
      "text/plain": [
       "\\left[ \\left[ \\left[ 0, \\  0, \\  0\\right], \\  \\left[ 0, \\  1.0 r \\cos^{2}{\\left(ph \\right)}, \\  0\\right], \\  \\left[ 0, \\  0, \\  1.0 r\\right]\\right], \\  \\left[ \\left[ 0, \\  1.0 r \\cos^{2}{\\left(ph \\right)}, \\  0\\right], \\  \\left[ - 1.0 r \\cos^{2}{\\left(ph \\right)}, \\  0, \\  0.5 r^{2} \\sin{\\left(2 ph \\right)}\\right], \\  \\left[ 0, \\  - 0.5 r^{2} \\sin{\\left(2 ph \\right)}, \\  0\\right]\\right], \\  \\left[ \\left[ 0, \\  0, \\  1.0 r\\right], \\  \\left[ 0, \\  - 0.5 r^{2} \\sin{\\left(2 ph \\right)}, \\  0\\right], \\  \\left[ - 1.0 r, \\  0, \\  0\\right]\\right]\\right]\n"
      ]
     },
     "metadata": {},
     "output_type": "display_data"
    }
   ],
   "source": [
    "from sympy import *\n",
    "import numpy as np\n",
    "init_printing()\n",
    "r = symbols('r')\n",
    "th = symbols('th')\n",
    "ph = symbols('ph')\n",
    "\n",
    "\n",
    "# x, y, z = r*cos(ph)*cos(th),  r*cos(ph)*sin(th), r*sin(ph)\n",
    "def fx1(u1, u2, u3):\n",
    "    return u1*cos(u3)*cos(u2)\n",
    "def fx2(u1, u2, u3):\n",
    "    return u1*cos(u3)*sin(u2)\n",
    "def fx3(u1, u2, u3):\n",
    "    return u1*sin(u3)\n",
    "\n",
    "def getFeaturesOfCoordinates(fx1, fx2, fx3, u1, u2, u3):\n",
    "    x = fx1(u1, u2, u3)\n",
    "    y = fx2(u1, u2, u3)\n",
    "    z = fx3(u1, u2, u3)\n",
    "\n",
    "    uvec = [u1, u2, u3]\n",
    "    rvec= [x, y, z]\n",
    "    gcov = [[0 for _ in range(3)] for i in range(3)]\n",
    "    for i in range(3):\n",
    "        for j in range(3):\n",
    "            gcov[i][j] = diff(rvec[j], uvec[i])\n",
    "    gCovCov = [[0 for i in range(3)] for j in range(3)]\n",
    "\n",
    "    for i in range(3):\n",
    "        for j in range(3):\n",
    "            for m in range(3):\n",
    "                gCovCov[i][j] += simplify(gcov[i][m]*gcov[j][m])\n",
    "            gCovCov[i][j] = simplify(gCovCov[i][j])\n",
    "\n",
    "    gCovCov = gCovCov\n",
    "    gConCon =np.reshape(Matrix(gCovCov).inv(), shape=(3, 3))\n",
    "\n",
    "    # print(np.reshape(gConCon, shape=(3, 3)))\n",
    "\n",
    "    gCovCovDerivatives = [[[0 for _ in range(3)] for __ in range(3)] for ____ in range(3)]\n",
    "    for i in range(3):\n",
    "        for j in range(3):\n",
    "            for k in range(3):\n",
    "                gCovCovDerivatives[i][j][k] = simplify(diff(gCovCov[i][j], uvec[k]))\n",
    "\n",
    "\n",
    "\n",
    "    christoffelFirstKind = [[[0 for _ in range(3)] for __ in range(3)] for ____ in range(3)]\n",
    "    christoffelSecondKind = [[[0 for _ in range(3)] for __ in range(3)] for ____ in range(3)]\n",
    "\n",
    "    for i in range(3):\n",
    "        for j in range(3):\n",
    "            for k in range(3):\n",
    "                christoffelFirstKind[i][j][k] = simplify((1/2) * (-gCovCovDerivatives[i][j][k] + gCovCovDerivatives[j][k][i] + gCovCovDerivatives[k][i][j]) )\n",
    "    for m in range(3):\n",
    "        for j in range(3):\n",
    "            for k in range(3):\n",
    "                for i in range(3):\n",
    "                    christoffelSecondKind[j][k][m] += gConCon[m][i]*christoffelFirstKind[i][j][k]\n",
    "                christoffelSecondKind[j][k][m] = simplify(christoffelSecondKind[j][k][m])\n",
    "\n",
    "    # print(christoffelFirstKind[1][1][2])\n",
    "    # print(christoffelFirstKind)\n",
    "\n",
    "    return rvec, gCovCov, gConCon, christoffelFirstKind, christoffelSecondKind\n",
    "\n",
    "rvec, gCovCov, gConCon, christoffelFirstKind, christoffelSecondKind = getFeaturesOfCoordinates(fx1, fx2, fx3, r, th, ph)\n",
    "\n",
    "# print(latex(christoffelFirstKind))\n",
    "\n"
   ]
  },
  {
   "cell_type": "code",
   "execution_count": null,
   "metadata": {},
   "outputs": [
    {
     "data": {
      "text/plain": [
       "Traceback (most recent call last):\n",
       "  File \"/home/odin/.vscode/extensions/ms-python.python-2025.2.0-linux-x64/python_files/python_server.py\", line 133, in exec_user_input\n",
       "    retval = callable_(user_input, user_globals)\n",
       "             ^^^^^^^^^^^^^^^^^^^^^^^^^^^^^^^^^^^\n",
       "  File \"<string>\", line 4, in <module>\n",
       "  File \"/home/odin/Code/lib/python3.12/site-packages/sympy/matrices/repmatrix.py\", line 558, in __new__\n",
       "    return cls._new(*args, **kwargs)\n",
       "           ^^^^^^^^^^^^^^^^^^^^^^^^^\n",
       "  File \"/home/odin/Code/lib/python3.12/site-packages/sympy/matrices/repmatrix.py\", line 569, in _new\n",
       "    rows, cols, flat_list = cls._handle_creation_inputs(*args, **kwargs)\n",
       "                            ^^^^^^^^^^^^^^^^^^^^^^^^^^^^^^^^^^^^^^^^^^^^\n",
       "  File \"/home/odin/Code/lib/python3.12/site-packages/sympy/matrices/matrixbase.py\", line 4020, in _handle_creation_inputs\n",
       "    raise TypeError(filldedent('''\n",
       "TypeError: \n",
       "Data type not understood; expecting list of lists or lists of values.\n",
       "\n"
      ]
     },
     "metadata": {},
     "output_type": "display_data"
    }
   ],
   "source": [
    "\n",
    "\n",
    "f\"${latex(christoffelFirstKind[0][1][1])}$\""
   ]
  },
  {
   "cell_type": "code",
   "execution_count": null,
   "metadata": {},
   "outputs": [],
   "source": []
  }
 ],
 "metadata": {
  "language_info": {
   "name": "python"
  }
 },
 "nbformat": 4,
 "nbformat_minor": 2
}
